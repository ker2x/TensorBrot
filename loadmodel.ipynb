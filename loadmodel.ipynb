{
 "cells": [
  {
   "cell_type": "code",
   "execution_count": 1,
   "metadata": {
    "collapsed": true
   },
   "outputs": [
    {
     "name": "stdout",
     "output_type": "stream",
     "text": [
      "2.7.0\n"
     ]
    }
   ],
   "source": [
    "import os\n",
    "import time\n",
    "\n",
    "import tensorflow as tf\n",
    "from tensorflow import keras\n",
    "import matplotlib.pyplot as plt\n",
    "\n",
    "print(tf.version.VERSION)\n"
   ]
  },
  {
   "cell_type": "code",
   "execution_count": 2,
   "outputs": [
    {
     "name": "stdout",
     "output_type": "stream",
     "text": [
      "Metal device set to: Apple M1\n"
     ]
    },
    {
     "name": "stderr",
     "output_type": "stream",
     "text": [
      "2021-12-09 09:23:28.158384: I tensorflow/core/common_runtime/pluggable_device/pluggable_device_factory.cc:305] Could not identify NUMA node of platform GPU ID 0, defaulting to 0. Your kernel may not have been built with NUMA support.\n",
      "2021-12-09 09:23:28.158823: I tensorflow/core/common_runtime/pluggable_device/pluggable_device_factory.cc:271] Created TensorFlow device (/job:localhost/replica:0/task:0/device:GPU:0 with 0 MB memory) -> physical PluggableDevice (device: 0, name: METAL, pci bus id: <undefined>)\n"
     ]
    }
   ],
   "source": [
    "new_model = tf.keras.models.load_model('models/mandelbrain-1638992942-perfect-0.9998')\n"
   ],
   "metadata": {
    "collapsed": false,
    "pycharm": {
     "name": "#%%\n"
    }
   }
  },
  {
   "cell_type": "code",
   "execution_count": 3,
   "outputs": [],
   "source": [
    "#new_model.summary()\n",
    "@tf.function\n",
    "def MandelbrotDataSet(size=1000, max_depth=100, xmin=-2.0, xmax=0.7, ymin=-1.3, ymax=1.3):\n",
    "    x = tf.random.uniform((size,),xmin,xmax,tf.bfloat16)\n",
    "    y = tf.random.uniform((size,),ymin,ymax,tf.bfloat16)\n",
    "    return tf.stack([x, y], axis=1), mandel(x=x, y=y,max_depth=max_depth)\n",
    "\n",
    "def mandel(x, y, max_depth):\n",
    "    zx, zy = x,y\n",
    "    for n in range(1, max_depth):\n",
    "        zx, zy = zx*zx - zy*zy + x, 2*zx*zy + y\n",
    "    return tf.cast(tf.less(zx*zx+zy*zy, 4.0),tf.float16) #* 2.0 - 1.0\n",
    "\n",
    "class MandelSequence(tf.keras.utils.Sequence):\n",
    "    def __init__(self, batch_size, batch_per_seq):\n",
    "        self.batch_size = batch_size\n",
    "        self.batch_per_seq = batch_per_seq\n",
    "    def __len__(self):\n",
    "        return self.batch_per_seq\n",
    "    def __getitem__(self, item):\n",
    "        return MandelbrotDataSet(self.batch_size)"
   ],
   "metadata": {
    "collapsed": false,
    "pycharm": {
     "name": "#%%\n"
    }
   }
  },
  {
   "cell_type": "code",
   "execution_count": 4,
   "outputs": [
    {
     "name": "stderr",
     "output_type": "stream",
     "text": [
      "2021-12-09 09:23:28.776011: W tensorflow/core/platform/profile_utils/cpu_utils.cc:128] Failed to get CPU frequency: 0 Hz\n",
      "2021-12-09 09:23:28.776821: I tensorflow/core/grappler/optimizers/custom_graph_optimizer_registry.cc:112] Plugin optimizer for device_type GPU is enabled.\n",
      "2021-12-09 09:23:28.985511: I tensorflow/core/grappler/optimizers/custom_graph_optimizer_registry.cc:112] Plugin optimizer for device_type GPU is enabled.\n"
     ]
    },
    {
     "name": "stdout",
     "output_type": "stream",
     "text": [
      "100/100 [==============================] - 20s 200ms/step - loss: 2.4880e-04 - accuracy: 0.9998 - mae: 2.5318e-04 - mse: 2.4880e-04\n",
      "test loss, test acc: [0.0002488017489667982, 0.9997512102127075, 0.0002531810023356229, 0.00024880171986296773]\n"
     ]
    }
   ],
   "source": [
    "x = tf.random.uniform((200_000,), -2.0, 0.7, tf.float16)\n",
    "y = tf.random.uniform((200_000,), -1.3, 1.3, tf.float16)\n",
    "#x = tf.random.uniform((100_000,), -12.0, 10.7, tf.float16)\n",
    "#y = tf.random.uniform((100_000,), -11.3, 11.3, tf.float16)\n",
    "data = tf.stack([x, y], axis=1)\n",
    "ev = MandelSequence(100_000,100)\n",
    "results = new_model.evaluate(ev)\n",
    "print(\"test loss, test acc:\", results)"
   ],
   "metadata": {
    "collapsed": false,
    "pycharm": {
     "name": "#%%\n"
    }
   }
  },
  {
   "cell_type": "code",
   "execution_count": 5,
   "outputs": [
    {
     "name": "stderr",
     "output_type": "stream",
     "text": [
      "2021-12-09 09:23:49.219114: I tensorflow/core/grappler/optimizers/custom_graph_optimizer_registry.cc:112] Plugin optimizer for device_type GPU is enabled.\n"
     ]
    },
    {
     "name": "stdout",
     "output_type": "stream",
     "text": [
      "elaspsed :  22.311036109924316\n"
     ]
    }
   ],
   "source": [
    "start = time.time()\n",
    "predictions = new_model.predict(data)\n",
    "print(\"elaspsed : \", time.time() - start)"
   ],
   "metadata": {
    "collapsed": false,
    "pycharm": {
     "name": "#%%\n"
    }
   }
  },
  {
   "cell_type": "code",
   "execution_count": 6,
   "outputs": [
    {
     "data": {
      "text/plain": "<Figure size 432x288 with 1 Axes>",
      "image/png": "[encoded data removed]"
     },
     "metadata": {
      "needs_background": "light"
     },
     "output_type": "display_data"
    }
   ],
   "source": [
    "plot = plt.scatter(x, y, s=1, c=predictions)\n",
    "plt.show()"
   ],
   "metadata": {
    "collapsed": false,
    "pycharm": {
     "name": "#%%\n"
    }
   }
  },
  {
   "cell_type": "code",
   "execution_count": 6,
   "outputs": [],
   "source": [],
   "metadata": {
    "collapsed": false,
    "pycharm": {
     "name": "#%%\n"
    }
   }
  }
 ],
 "metadata": {
  "kernelspec": {
   "display_name": "Python 3",
   "language": "python",
   "name": "python3"
  },
  "language_info": {
   "codemirror_mode": {
    "name": "ipython",
    "version": 2
   },
   "file_extension": ".py",
   "mimetype": "text/x-python",
   "name": "python",
   "nbconvert_exporter": "python",
   "pygments_lexer": "ipython2",
   "version": "2.7.6"
  }
 },
 "nbformat": 4,
 "nbformat_minor": 0
}